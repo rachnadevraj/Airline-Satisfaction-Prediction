{
  "cells": [
    {
      "cell_type": "markdown",
      "id": "c2736708-01f7-4e4f-9f67-eb180a8183ca",
      "metadata": {
        "id": "c2736708-01f7-4e4f-9f67-eb180a8183ca"
      },
      "source": [
        "## Creating Web App using Streamlit UI\n",
        "##### By using streamlit, we are creating app and finding the expected prediction of Air Passengers by Embedding Model"
      ]
    },
    {
      "cell_type": "code",
      "execution_count": null,
      "id": "6b0d8eda-d46d-4747-9ce7-93e13b537095",
      "metadata": {
        "id": "6b0d8eda-d46d-4747-9ce7-93e13b537095",
        "outputId": "34ecbabc-9c2f-4377-bb67-c9501a8b83fc"
      },
      "outputs": [
        {
          "name": "stdout",
          "output_type": "stream",
          "text": [
            "Collecting scikit-learn==1.5.2\n",
            "  Using cached scikit_learn-1.5.2-cp312-cp312-win_amd64.whl.metadata (13 kB)\n",
            "Requirement already satisfied: numpy>=1.19.5 in c:\\users\\bana srinath reddy\\py\\lib\\site-packages (from scikit-learn==1.5.2) (1.26.4)\n",
            "Requirement already satisfied: scipy>=1.6.0 in c:\\users\\bana srinath reddy\\py\\lib\\site-packages (from scikit-learn==1.5.2) (1.13.1)\n",
            "Requirement already satisfied: joblib>=1.2.0 in c:\\users\\bana srinath reddy\\py\\lib\\site-packages (from scikit-learn==1.5.2) (1.4.2)\n",
            "Collecting threadpoolctl>=3.1.0 (from scikit-learn==1.5.2)\n",
            "  Using cached threadpoolctl-3.5.0-py3-none-any.whl.metadata (13 kB)\n",
            "Using cached scikit_learn-1.5.2-cp312-cp312-win_amd64.whl (11.0 MB)\n",
            "Using cached threadpoolctl-3.5.0-py3-none-any.whl (18 kB)\n",
            "Installing collected packages: threadpoolctl, scikit-learn\n",
            "  Attempting uninstall: threadpoolctl\n",
            "    Found existing installation: threadpoolctl 2.2.0\n",
            "    Uninstalling threadpoolctl-2.2.0:\n",
            "      Successfully uninstalled threadpoolctl-2.2.0\n",
            "  Attempting uninstall: scikit-learn\n",
            "    Found existing installation: scikit-learn 1.3.2\n",
            "    Uninstalling scikit-learn-1.3.2:\n",
            "      Successfully uninstalled scikit-learn-1.3.2\n",
            "Successfully installed scikit-learn-1.5.2 threadpoolctl-3.5.0\n"
          ]
        },
        {
          "name": "stderr",
          "output_type": "stream",
          "text": [
            "  WARNING: Failed to remove contents in a temporary directory 'C:\\Users\\BANA SRINATH REDDY\\Py\\Lib\\site-packages\\~klearn'.\n",
            "  You can safely remove it manually.\n"
          ]
        },
        {
          "name": "stdout",
          "output_type": "stream",
          "text": [
            "1.5.2\n"
          ]
        }
      ],
      "source": [
        "!pip install scikit-learn==1.5.2\n",
        "\n",
        "import sklearn\n",
        "print(sklearn.__version__)"
      ]
    },
    {
      "cell_type": "code",
      "execution_count": null,
      "id": "048f2772-09bf-47a1-bba7-e3a442d05ee9",
      "metadata": {
        "id": "048f2772-09bf-47a1-bba7-e3a442d05ee9",
        "outputId": "6250b177-3d51-4627-afe0-881ce72f57d2"
      },
      "outputs": [
        {
          "name": "stdout",
          "output_type": "stream",
          "text": [
            "Requirement already satisfied: streamlit in c:\\users\\bana srinath reddy\\py\\lib\\site-packages (1.32.0)\n",
            "Requirement already satisfied: altair in c:\\users\\bana srinath reddy\\py\\lib\\site-packages (5.0.1)\n",
            "Requirement already satisfied: blinker<2,>=1.0.0 in c:\\users\\bana srinath reddy\\py\\lib\\site-packages (from streamlit) (1.6.2)\n",
            "Requirement already satisfied: cachetools<6,>=4.0 in c:\\users\\bana srinath reddy\\py\\lib\\site-packages (from streamlit) (5.3.3)\n",
            "Requirement already satisfied: click<9,>=7.0 in c:\\users\\bana srinath reddy\\py\\lib\\site-packages (from streamlit) (8.1.7)\n",
            "Requirement already satisfied: numpy<2,>=1.19.3 in c:\\users\\bana srinath reddy\\py\\lib\\site-packages (from streamlit) (1.26.4)\n",
            "Requirement already satisfied: packaging<24,>=16.8 in c:\\users\\bana srinath reddy\\py\\lib\\site-packages (from streamlit) (23.2)\n",
            "Requirement already satisfied: pandas<3,>=1.3.0 in c:\\users\\bana srinath reddy\\py\\lib\\site-packages (from streamlit) (2.2.2)\n",
            "Requirement already satisfied: pillow<11,>=7.1.0 in c:\\users\\bana srinath reddy\\py\\lib\\site-packages (from streamlit) (10.3.0)\n",
            "Requirement already satisfied: protobuf<5,>=3.20 in c:\\users\\bana srinath reddy\\py\\lib\\site-packages (from streamlit) (3.20.3)\n",
            "Requirement already satisfied: pyarrow>=7.0 in c:\\users\\bana srinath reddy\\py\\lib\\site-packages (from streamlit) (14.0.2)\n",
            "Requirement already satisfied: requests<3,>=2.27 in c:\\users\\bana srinath reddy\\py\\lib\\site-packages (from streamlit) (2.32.2)\n",
            "Requirement already satisfied: rich<14,>=10.14.0 in c:\\users\\bana srinath reddy\\py\\lib\\site-packages (from streamlit) (13.3.5)\n",
            "Requirement already satisfied: tenacity<9,>=8.1.0 in c:\\users\\bana srinath reddy\\py\\lib\\site-packages (from streamlit) (8.2.2)\n",
            "Requirement already satisfied: toml<2,>=0.10.1 in c:\\users\\bana srinath reddy\\py\\lib\\site-packages (from streamlit) (0.10.2)\n",
            "Requirement already satisfied: typing-extensions<5,>=4.3.0 in c:\\users\\bana srinath reddy\\py\\lib\\site-packages (from streamlit) (4.11.0)\n",
            "Requirement already satisfied: gitpython!=3.1.19,<4,>=3.0.7 in c:\\users\\bana srinath reddy\\py\\lib\\site-packages (from streamlit) (3.1.37)\n",
            "Requirement already satisfied: pydeck<1,>=0.8.0b4 in c:\\users\\bana srinath reddy\\py\\lib\\site-packages (from streamlit) (0.8.0)\n",
            "Requirement already satisfied: tornado<7,>=6.0.3 in c:\\users\\bana srinath reddy\\py\\lib\\site-packages (from streamlit) (6.4.1)\n",
            "Requirement already satisfied: watchdog>=2.1.5 in c:\\users\\bana srinath reddy\\py\\lib\\site-packages (from streamlit) (4.0.1)\n",
            "Requirement already satisfied: jinja2 in c:\\users\\bana srinath reddy\\py\\lib\\site-packages (from altair) (3.1.4)\n",
            "Requirement already satisfied: jsonschema>=3.0 in c:\\users\\bana srinath reddy\\py\\lib\\site-packages (from altair) (4.19.2)\n",
            "Requirement already satisfied: toolz in c:\\users\\bana srinath reddy\\py\\lib\\site-packages (from altair) (0.12.0)\n",
            "Requirement already satisfied: colorama in c:\\users\\bana srinath reddy\\py\\lib\\site-packages (from click<9,>=7.0->streamlit) (0.4.6)\n",
            "Requirement already satisfied: gitdb<5,>=4.0.1 in c:\\users\\bana srinath reddy\\py\\lib\\site-packages (from gitpython!=3.1.19,<4,>=3.0.7->streamlit) (4.0.7)\n",
            "Requirement already satisfied: attrs>=22.2.0 in c:\\users\\bana srinath reddy\\py\\lib\\site-packages (from jsonschema>=3.0->altair) (23.2.0)\n",
            "Requirement already satisfied: jsonschema-specifications>=2023.03.6 in c:\\users\\bana srinath reddy\\py\\lib\\site-packages (from jsonschema>=3.0->altair) (2023.7.1)\n",
            "Requirement already satisfied: referencing>=0.28.4 in c:\\users\\bana srinath reddy\\py\\lib\\site-packages (from jsonschema>=3.0->altair) (0.30.2)\n",
            "Requirement already satisfied: rpds-py>=0.7.1 in c:\\users\\bana srinath reddy\\py\\lib\\site-packages (from jsonschema>=3.0->altair) (0.10.6)\n",
            "Requirement already satisfied: python-dateutil>=2.8.2 in c:\\users\\bana srinath reddy\\py\\lib\\site-packages (from pandas<3,>=1.3.0->streamlit) (2.9.0.post0)\n",
            "Requirement already satisfied: pytz>=2020.1 in c:\\users\\bana srinath reddy\\py\\lib\\site-packages (from pandas<3,>=1.3.0->streamlit) (2024.1)\n",
            "Requirement already satisfied: tzdata>=2022.7 in c:\\users\\bana srinath reddy\\py\\lib\\site-packages (from pandas<3,>=1.3.0->streamlit) (2023.3)\n",
            "Requirement already satisfied: MarkupSafe>=2.0 in c:\\users\\bana srinath reddy\\py\\lib\\site-packages (from jinja2->altair) (2.1.3)\n",
            "Requirement already satisfied: charset-normalizer<4,>=2 in c:\\users\\bana srinath reddy\\py\\lib\\site-packages (from requests<3,>=2.27->streamlit) (2.0.4)\n",
            "Requirement already satisfied: idna<4,>=2.5 in c:\\users\\bana srinath reddy\\py\\lib\\site-packages (from requests<3,>=2.27->streamlit) (3.7)\n",
            "Requirement already satisfied: urllib3<3,>=1.21.1 in c:\\users\\bana srinath reddy\\py\\lib\\site-packages (from requests<3,>=2.27->streamlit) (2.2.2)\n",
            "Requirement already satisfied: certifi>=2017.4.17 in c:\\users\\bana srinath reddy\\py\\lib\\site-packages (from requests<3,>=2.27->streamlit) (2024.7.4)\n",
            "Requirement already satisfied: markdown-it-py<3.0.0,>=2.2.0 in c:\\users\\bana srinath reddy\\py\\lib\\site-packages (from rich<14,>=10.14.0->streamlit) (2.2.0)\n",
            "Requirement already satisfied: pygments<3.0.0,>=2.13.0 in c:\\users\\bana srinath reddy\\py\\lib\\site-packages (from rich<14,>=10.14.0->streamlit) (2.15.1)\n",
            "Requirement already satisfied: smmap<5,>=3.0.1 in c:\\users\\bana srinath reddy\\py\\lib\\site-packages (from gitdb<5,>=4.0.1->gitpython!=3.1.19,<4,>=3.0.7->streamlit) (4.0.0)\n",
            "Requirement already satisfied: mdurl~=0.1 in c:\\users\\bana srinath reddy\\py\\lib\\site-packages (from markdown-it-py<3.0.0,>=2.2.0->rich<14,>=10.14.0->streamlit) (0.1.0)\n",
            "Requirement already satisfied: six>=1.5 in c:\\users\\bana srinath reddy\\py\\lib\\site-packages (from python-dateutil>=2.8.2->pandas<3,>=1.3.0->streamlit) (1.16.0)\n"
          ]
        }
      ],
      "source": [
        "!pip install streamlit altair"
      ]
    },
    {
      "cell_type": "markdown",
      "id": "ea254c22-f85c-4c79-8f38-5baae6b94d6c",
      "metadata": {
        "id": "ea254c22-f85c-4c79-8f38-5baae6b94d6c"
      },
      "source": [
        "### Creating the Airline Satisfactory Prediction UI App"
      ]
    },
    {
      "cell_type": "code",
      "execution_count": null,
      "id": "a8a4b1c6-935b-4514-b247-82da5d02e0fa",
      "metadata": {
        "id": "a8a4b1c6-935b-4514-b247-82da5d02e0fa",
        "outputId": "b7ccf97e-026a-4fc9-a1ed-1d46a9b2a02f"
      },
      "outputs": [
        {
          "name": "stdout",
          "output_type": "stream",
          "text": [
            "Pipeline(steps=[('preprocessor',\n",
            "                 ColumnTransformer(transformers=[('num_not_imputed',\n",
            "                                                  Pipeline(steps=[('scaler',\n",
            "                                                                   StandardScaler())]),\n",
            "                                                  ['Flight Distance', 'Age',\n",
            "                                                   'Arrival Delay in Minutes',\n",
            "                                                   'Departure Delay in '\n",
            "                                                   'Minutes']),\n",
            "                                                 ('catvars',\n",
            "                                                  Pipeline(steps=[('ohencoder',\n",
            "                                                                   OneHotEncoder(handle_unknown='ignore'))]),\n",
            "                                                  ['Gender', 'Customer Type',\n",
            "                                                   'Type of Travel', 'Class',\n",
            "                                                   'Inflight wifi service',\n",
            "                                                   'Departure/Arrival time '\n",
            "                                                   'convenient',\n",
            "                                                   'Ease of Online booking',\n",
            "                                                   'Gate location',\n",
            "                                                   'Food and drink',\n",
            "                                                   'Online boarding',\n",
            "                                                   'Seat comfort',\n",
            "                                                   'Inflight entertainment',\n",
            "                                                   'On-board service',\n",
            "                                                   'Leg room service',\n",
            "                                                   'Baggage handling',\n",
            "                                                   'Checkin service',\n",
            "                                                   'Inflight service',\n",
            "                                                   'Cleanliness'])])),\n",
            "                ('linear_model', LogisticRegression())])\n"
          ]
        }
      ],
      "source": [
        "# Importing pickle file to see if it loads preoperly or not\n",
        "from joblib import load\n",
        "airlinemodel = load('airline_logreg.pkl')\n",
        "print(airlinemodeltest)"
      ]
    },
    {
      "cell_type": "code",
      "execution_count": null,
      "id": "bb3dd5f7-2164-488a-98c7-4c26406037fc",
      "metadata": {
        "id": "bb3dd5f7-2164-488a-98c7-4c26406037fc",
        "outputId": "ec41df8f-354f-4d81-992d-ba7b9a235d8c"
      },
      "outputs": [
        {
          "name": "stdout",
          "output_type": "stream",
          "text": [
            "Overwriting AirSatisfactionPredictApp.py\n"
          ]
        }
      ],
      "source": [
        "%%writefile AirSatisfactionPredictApp.py\n",
        "import streamlit as st\n",
        "import pandas as pd\n",
        "import numpy as np\n",
        "from joblib import load\n",
        "\n",
        "airlinemodel = load('airline_logreg.pkl')\n",
        "\n",
        "# Creating function to caluclate the prediction by passing all inputs from UI\n",
        "def predict_satisfaction(gender,\n",
        "                         customertype,\n",
        "                         age,\n",
        "                         traveltype,\n",
        "                         classtype,\n",
        "                         distance,\n",
        "                         wifiservice,\n",
        "                         convenient,\n",
        "                         easebooking,\n",
        "                         gatelocation,\n",
        "                         fooddrink,\n",
        "                         onlineboarding,\n",
        "                         seatcomfort,\n",
        "                         infltent,\n",
        "                         onboardservice,\n",
        "                         legroomservice,\n",
        "                         baggagehandling,\n",
        "                         checkinservice,\n",
        "                         inflightservice,\n",
        "                         cleanliness,\n",
        "                         depduration,\n",
        "                         arrduration):\n",
        "    inputs_dict = {'Gender' : gender,\n",
        "                   'Customer Type' : customertype,\n",
        "                   'Age': float(age),\n",
        "                   'Type of Travel': traveltype,\n",
        "                   'Class': classtype,\n",
        "                   'Flight Distance': int(distance),\n",
        "                   'Inflight wifi service': wifiservice,\n",
        "                   'Departure/Arrival time convenient': convenient,\n",
        "                   'Ease of Online booking': easebooking,\n",
        "                   'Gate location': gatelocation,\n",
        "                   'Food and drink': fooddrink,\n",
        "                   'Online boarding': onlineboarding,\n",
        "                   'Seat comfort': seatcomfort,\n",
        "                   'Inflight entertainment': infltent,\n",
        "                   'On-board service': onboardservice,\n",
        "                   'Leg room service': legroomservice,\n",
        "                   'Baggage handling': baggagehandling,\n",
        "                   'Checkin service': checkinservice,\n",
        "                   'Inflight service': inflightservice,\n",
        "                   'Cleanliness': cleanliness,\n",
        "                   'Departure Delay in Minutes': int(depduration),\n",
        "                   'Arrival Delay in Minutes': int(arrduration)}\n",
        "\n",
        "    df = pd.DataFrame(inputs_dict,index=[0])\n",
        "\n",
        "    satisfaction = airlinemodel.predict(df)[0]\n",
        "    return satisfaction\n",
        "\n",
        "\n",
        "# This function is create the app layout\n",
        "def app_layout():\n",
        "\n",
        "    st.title('Airline Satisfaction Prediction')\n",
        "    st.header('Enter customer experience detail:')\n",
        "\n",
        "    ## Creating the user input fields\n",
        "\n",
        "    gender = st.selectbox('Gender:',\n",
        "                          ['Male', 'Female'])\n",
        "\n",
        "    customertype = st.selectbox('Customer Type:',\n",
        "                                ['disloyal Customer', 'Loyal Customer'])\n",
        "\n",
        "    age = st.number_input('Age:',\n",
        "                          min_value=1,\n",
        "                          max_value=150,\n",
        "                          value=30)\n",
        "\n",
        "    traveltype = st.selectbox('Type of Travel:',\n",
        "                              ['Personal Travel', 'Business Travel'])\n",
        "\n",
        "    classtype = st.selectbox('Class Type:',\n",
        "                             ['Eco', 'Eco Plus', 'Business'])\n",
        "\n",
        "\n",
        "    distance = st.number_input('Distance:',\n",
        "                               min_value = 50,\n",
        "                               max_value = 5000,\n",
        "                               value = 1000)\n",
        "\n",
        "    wifiservice = st.selectbox('Wifi Service:',\n",
        "                               ['0','1','2','3','4','5'])\n",
        "\n",
        "    convenient = st.selectbox('Departure & Arrival Time Convenience:',\n",
        "                               ['0','1','2','3','4','5'])\n",
        "\n",
        "    easebooking = st.selectbox('Ease of Online Booking:',\n",
        "                               ['0','1','2','3','4','5'])\n",
        "\n",
        "    gatelocation = st.selectbox('Gate Location:',\n",
        "                               ['0','1','2','3','4','5'])\n",
        "\n",
        "    fooddrink = st.selectbox('Food & Drink:',\n",
        "                               ['0','1','2','3','4','5'])\n",
        "\n",
        "    onlineboarding = st.selectbox('Online Boarding:',\n",
        "                               ['0','1','2','3','4','5'])\n",
        "\n",
        "    seatcomfort = st.selectbox('Seat Comfort:',\n",
        "                               ['0','1','2','3','4','5'])\n",
        "\n",
        "    infltent = st.selectbox('Inflight Entertainment:',\n",
        "                               ['0','1','2','3','4','5'])\n",
        "\n",
        "    onboardservice = st.selectbox('Onboard Service:',\n",
        "                               ['0','1','2','3','4','5'])\n",
        "\n",
        "    legroomservice = st.selectbox('Legroom:',\n",
        "                               ['0','1','2','3','4','5'])\n",
        "\n",
        "    baggagehandling = st.selectbox('Baggage Handling:',\n",
        "                               ['0','1','2','3','4','5'])\n",
        "\n",
        "    checkinservice = st.selectbox('Checkin Service:',\n",
        "                               ['0','1','2','3','4','5'])\n",
        "\n",
        "    inflightservice = st.selectbox('Inflight Service:',\n",
        "                               ['0','1','2','3','4','5'])\n",
        "\n",
        "    cleanliness = st.selectbox('Cleanliness:',\n",
        "                               ['0','1','2','3','4','5'])\n",
        "\n",
        "    depduration = st.number_input('Delay of Deparature:',\n",
        "                                  min_value=0,\n",
        "                                  max_value=2000,\n",
        "                                  value=100)\n",
        "\n",
        "    arrduration = st.number_input('Delay of Arrival:',\n",
        "                                  min_value=0,\n",
        "                                  max_value=2000,\n",
        "                                  value=200)\n",
        "\n",
        "    if st.button('Predict Satisfaction'):\n",
        "        satisfaction = predict_satisfaction(gender,\n",
        "                                            customertype,\n",
        "                                            age,\n",
        "                                            traveltype,\n",
        "                                            classtype,\n",
        "                                            distance,\n",
        "                                            wifiservice,\n",
        "                                            convenient,\n",
        "                                            easebooking,\n",
        "                                            gatelocation,\n",
        "                                            fooddrink,\n",
        "                                            onlineboarding,\n",
        "                                            seatcomfort,\n",
        "                                            infltent,\n",
        "                                            onboardservice,\n",
        "                                            legroomservice,\n",
        "                                            baggagehandling,\n",
        "                                            checkinservice,\n",
        "                                            inflightservice,\n",
        "                                            cleanliness,\n",
        "                                            depduration,\n",
        "                                            arrduration)\n",
        "        if satisfaction==0:\n",
        "            st.error('Expected Customer Satisfaction: Neutral or Dissatisfied',icon='❌')\n",
        "        else:\n",
        "            st.success('Expected Customer Satisfaction: Satisfied',icon='✅')\n",
        "\n",
        "if __name__=='__main__':\n",
        "  app_layout()"
      ]
    },
    {
      "cell_type": "code",
      "execution_count": null,
      "id": "7a96bc02-a674-4d89-8877-2c569329b45b",
      "metadata": {
        "id": "7a96bc02-a674-4d89-8877-2c569329b45b"
      },
      "outputs": [],
      "source": [
        "#### Running The App, and App will open new window\n",
        "!streamlit run AirSatisfactionPredictApp.py"
      ]
    }
  ],
  "metadata": {
    "kernelspec": {
      "display_name": "Python 3 (ipykernel)",
      "language": "python",
      "name": "python3"
    },
    "language_info": {
      "codemirror_mode": {
        "name": "ipython",
        "version": 3
      },
      "file_extension": ".py",
      "mimetype": "text/x-python",
      "name": "python",
      "nbconvert_exporter": "python",
      "pygments_lexer": "ipython3",
      "version": "3.12.4"
    },
    "colab": {
      "provenance": [],
      "collapsed_sections": [
        "c2736708-01f7-4e4f-9f67-eb180a8183ca"
      ]
    }
  },
  "nbformat": 4,
  "nbformat_minor": 5
}